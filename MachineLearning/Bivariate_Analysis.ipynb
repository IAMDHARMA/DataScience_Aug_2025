{
 "cells": [
  {
   "cell_type": "code",
   "execution_count": 8,
   "id": "71bd0f0a",
   "metadata": {},
   "outputs": [],
   "source": [
    "import pandas as pd"
   ]
  },
  {
   "cell_type": "code",
   "execution_count": 9,
   "id": "80cd3a49",
   "metadata": {},
   "outputs": [],
   "source": [
    "df = pd.read_csv(r\"C:\\Users\\mhema\\OneDrive\\Desktop\\DataScience\\MachineLearning\\BivariateData.csv\")"
   ]
  },
  {
   "cell_type": "code",
   "execution_count": 10,
   "id": "84d198c1",
   "metadata": {},
   "outputs": [
    {
     "data": {
      "text/plain": [
       "27.090476190476192"
      ]
     },
     "execution_count": 10,
     "metadata": {},
     "output_type": "execute_result"
    }
   ],
   "source": [
    "df['Hours_Studied'].cov(df['Test_Score'])"
   ]
  },
  {
   "cell_type": "code",
   "execution_count": 11,
   "id": "5a5cb8d5",
   "metadata": {},
   "outputs": [
    {
     "data": {
      "text/plain": [
       "-32.53571428571428"
      ]
     },
     "execution_count": 11,
     "metadata": {},
     "output_type": "execute_result"
    }
   ],
   "source": [
    "df['Test_Score'].cov(df['Stress_Level'])"
   ]
  },
  {
   "cell_type": "code",
   "execution_count": 12,
   "id": "e9602920",
   "metadata": {},
   "outputs": [
    {
     "data": {
      "text/plain": [
       "-1.2238095238095237"
      ]
     },
     "execution_count": 12,
     "metadata": {},
     "output_type": "execute_result"
    }
   ],
   "source": [
    "df['Test_Score'].cov(df['Shoe_Size'])"
   ]
  },
  {
   "cell_type": "markdown",
   "id": "d938a33a",
   "metadata": {},
   "source": [
    "- 0.7 to 1 -> Highly Correlation\n",
    "- 0.3 to 0.7 -> Medium Correlation\n",
    "- 0 to 0.3 -> Low Correlation or Zero Correlation"
   ]
  },
  {
   "cell_type": "code",
   "execution_count": 13,
   "id": "05a4fce7",
   "metadata": {},
   "outputs": [
    {
     "data": {
      "text/plain": [
       "0.9761563475950298"
      ]
     },
     "execution_count": 13,
     "metadata": {},
     "output_type": "execute_result"
    }
   ],
   "source": [
    "df['Hours_Studied'].corr(df['Test_Score'])"
   ]
  },
  {
   "cell_type": "code",
   "execution_count": 14,
   "id": "5dff8e0f",
   "metadata": {},
   "outputs": [
    {
     "data": {
      "text/plain": [
       "-0.9802039983413029"
      ]
     },
     "execution_count": 14,
     "metadata": {},
     "output_type": "execute_result"
    }
   ],
   "source": [
    "df['Test_Score'].corr(df['Stress_Level'])"
   ]
  },
  {
   "cell_type": "code",
   "execution_count": 15,
   "id": "ffb7bc8e",
   "metadata": {},
   "outputs": [
    {
     "data": {
      "text/plain": [
       "-0.058575760643432236"
      ]
     },
     "execution_count": 15,
     "metadata": {},
     "output_type": "execute_result"
    }
   ],
   "source": [
    "df['Test_Score'].corr(df['Shoe_Size'])"
   ]
  }
 ],
 "metadata": {
  "kernelspec": {
   "display_name": "Python 3",
   "language": "python",
   "name": "python3"
  },
  "language_info": {
   "codemirror_mode": {
    "name": "ipython",
    "version": 3
   },
   "file_extension": ".py",
   "mimetype": "text/x-python",
   "name": "python",
   "nbconvert_exporter": "python",
   "pygments_lexer": "ipython3",
   "version": "3.12.10"
  }
 },
 "nbformat": 4,
 "nbformat_minor": 5
}
